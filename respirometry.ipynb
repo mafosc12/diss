{
 "cells": [
  {
   "cell_type": "code",
   "execution_count": 4,
   "metadata": {},
   "outputs": [],
   "source": [
    "import scipy.io\n",
    "import numpy as np"
   ]
  },
  {
   "cell_type": "code",
   "execution_count": 5,
   "metadata": {},
   "outputs": [
    {
     "name": "stdout",
     "output_type": "stream",
     "text": [
      "MATLAB file header: MATLAB 5.0 MAT-file, Platform: PCWIN64, Created on: Thu May 19 11:07:03 2022\n",
      "MATLAB file version: 1.0\n",
      "No global variables stored.\n",
      "Data shape: (116934, 7)\n",
      "Data type: float64\n",
      "Data: [[-0.02986048  0.04583783 -0.07665443 ...  0.09125909  0.67669761\n",
      "   0.93279451]\n",
      " [-0.02595445  0.04702214 -0.07823151 ...  0.09125909  0.67669761\n",
      "   0.93279451]\n",
      " [-0.02194202  0.04821702 -0.07984927 ...  0.09125909  0.67669761\n",
      "   0.93279451]\n",
      " ...\n",
      " [-0.00713471  0.00193848  0.00204222 ...  0.0956101   0.98810351\n",
      "   0.99637347]\n",
      " [-0.0061566   0.00168285  0.00175637 ...  0.09170453  0.98759133\n",
      "   0.99683529]\n",
      " [-0.00527714  0.00145113  0.00150045 ...  0.09571406  0.98924553\n",
      "   1.00034869]]\n",
      "Mean of data: [ 8.65659257e-05  7.82121514e-06  7.59693602e-06 -5.11099157e-02\n",
      " -7.57704123e-03  2.63519676e-01  9.94951342e-01]\n"
     ]
    },
    {
     "ename": "",
     "evalue": "",
     "output_type": "error",
     "traceback": [
      "\u001b[1;31mThe Kernel crashed while executing code in the current cell or a previous cell. \n",
      "\u001b[1;31mPlease review the code in the cell(s) to identify a possible cause of the failure. \n",
      "\u001b[1;31mClick <a href='https://aka.ms/vscodeJupyterKernelCrash'>here</a> for more info. \n",
      "\u001b[1;31mView Jupyter <a href='command:jupyter.viewOutput'>log</a> for further details."
     ]
    }
   ],
   "source": [
    "\n",
    "mat = scipy.io.loadmat('C:/Users/hugma/diss/Breathwork EEG Data/Dreem_Pilot/s01/week_1/00-accelerometer/s01_wk1_1.mat')\n",
    "print(\"MATLAB file header:\", mat['__header__'].decode('utf-8'))\n",
    "print(\"MATLAB file version:\", mat['__version__'])\n",
    "\n",
    "# If there are global variables (usually not)\n",
    "if mat['__globals__']:\n",
    "    print(\"Global variables:\", mat['__globals__'])\n",
    "else:\n",
    "    print(\"No global variables stored.\")\n",
    "\n",
    "\n",
    "data = mat['data']\n",
    "print(\"Data shape:\", data.shape)\n",
    "print(\"Data type:\", data.dtype)\n",
    "print(\"Data:\", data)\n"
   ]
  }
 ],
 "metadata": {
  "kernelspec": {
   "display_name": "diss",
   "language": "python",
   "name": "python3"
  },
  "language_info": {
   "codemirror_mode": {
    "name": "ipython",
    "version": 3
   },
   "file_extension": ".py",
   "mimetype": "text/x-python",
   "name": "python",
   "nbconvert_exporter": "python",
   "pygments_lexer": "ipython3",
   "version": "3.11.7"
  }
 },
 "nbformat": 4,
 "nbformat_minor": 2
}
