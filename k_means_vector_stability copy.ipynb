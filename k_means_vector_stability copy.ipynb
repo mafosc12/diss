{
 "cells": [
  {
   "cell_type": "code",
   "execution_count": 1,
   "metadata": {},
   "outputs": [
    {
     "name": "stderr",
     "output_type": "stream",
     "text": [
      "C:\\Users\\hugma\\AppData\\Local\\Temp\\ipykernel_2520\\1378048044.py:4: DeprecationWarning: \n",
      "Pyarrow will become a required dependency of pandas in the next major release of pandas (pandas 3.0),\n",
      "(to allow more performant data types, such as the Arrow string type, and better interoperability with other libraries)\n",
      "but was not found to be installed on your system.\n",
      "If this would cause problems for you,\n",
      "please provide us feedback at https://github.com/pandas-dev/pandas/issues/54466\n",
      "        \n",
      "  import pandas as pd\n"
     ]
    }
   ],
   "source": [
    "from sklearn.cluster import KMeans\n",
    "from sklearn.metrics import normalized_mutual_info_score\n",
    "from itertools import combinations\n",
    "import pandas as pd\n",
    "from scipy.spatial import distance\n",
    "import os\n",
    "from sklearn.decomposition import PCA\n",
    "import matplotlib.pyplot as plt\n",
    "import numpy as np\n",
    "from scipy.spatial.distance import cdist\n",
    "import networkx as nx\n",
    "from sklearn.metrics import silhouette_score\n",
    "import seaborn as sns\n",
    "from math import log2"
   ]
  },
  {
   "cell_type": "code",
   "execution_count": 2,
   "metadata": {},
   "outputs": [],
   "source": [
    "filelocation_TET = 'NDT_all_12thDec_uncleaned.csv'\n",
    "feelings = ['MetaAwareness','Presence','PhysicalEffort','MentalEffort','Boredom', 'Receptivity', 'EmotionalIntensity', 'Clarity', 'Release', 'Bliss', 'Embodiment', 'Insightfulness', 'Anxiety', 'SpiritualExperience']\n",
    "header = \"Week\"\n",
    "no_dimensions = 2\n",
    "colours = {0:'red',1:'green',2:'blue',3:'orange',4:'pink',5:'yellow'}\n",
    "colours_list = ['red','green','blue','orange','pink','yellow']\n",
    "n_clust = 3\n",
    "headers = {'Subject':0, 'Week':1, 'Session':2}\n",
    "feelings_diffs = ['MetaAwareness_diff', 'Presence_diff', 'PhysicalEffort_diff',\n",
    "       'MentalEffort_diff', 'Boredom_diff', 'Receptivity_diff',\n",
    "       'EmotionalIntensity_diff', 'Clarity_diff', 'Release_diff', 'Bliss_diff',\n",
    "       'Embodiment_diff', 'Insightfulness_diff', 'Anxiety_diff',\n",
    "       'SpiritualExperience_diff']\n",
    "lcm = 332640\n",
    "n_rep = 1\n",
    "no_of_jumps = 1"
   ]
  },
  {
   "cell_type": "code",
   "execution_count": 3,
   "metadata": {},
   "outputs": [],
   "source": [
    "class csv_splitter:\n",
    "\n",
    "    def __init__(self,excel_file_name):\n",
    "        self.excel_file_location = f'c:\\\\Users\\\\hugma\\\\diss\\\\{excel_file_name}'\n",
    "        self.dataframes = None\n",
    "    def read_excel(self):\n",
    "        try:\n",
    "            df_excel_file_name = pd.read_csv(self.excel_file_location)\n",
    "            return df_excel_file_name\n",
    "        except Exception as e:\n",
    "            print(f\"error reading Excel file: {e}\")\n",
    "    def split_by_header(self,df_excel_file_name, heading):\n",
    "        if heading not in df_excel_file_name.columns:\n",
    "            print(f\"Error: '{heading}' not found in DataFrame columns.\")\n",
    "            return None\n",
    "        heading_values = df_excel_file_name[heading].unique()\n",
    "        split_df = {value: df_excel_file_name[df_excel_file_name[heading] == value] for value in heading_values}\n",
    "        split_df_array = [[key, value] for key, value in split_df.items()]\n",
    "        return split_df, split_df_array"
   ]
  },
  {
   "cell_type": "code",
   "execution_count": 4,
   "metadata": {},
   "outputs": [],
   "source": [
    "class principal_component_finder:\n",
    "\n",
    "    def __init__(self,csv_file, feelings,no_dimensions):\n",
    "        self.csv_file_TET = csv_file[feelings]\n",
    "        corr_matrix = self.csv_file_TET.corr()\n",
    "        pca = PCA(n_components=no_dimensions)\n",
    "        self.principal_components=pca.fit_transform(corr_matrix)\n",
    "        self.explained_variance_ratio = pca.explained_variance_ratio_\n",
    "    def PCA_TOT(self):\n",
    "        df_TET_feelings_prin = self.csv_file_TET.dot(self.principal_components)\n",
    "        for i in range(0,self.principal_components.shape[1]):\n",
    "            y_values = []\n",
    "            for j in range(0,len(feelings)):\n",
    "                y_values.append(self.principal_components[j][i])\n",
    "           # plt.figure()\n",
    "            #plt.bar(feelings,y_values)\n",
    "            #plt.title(f'principal componant {i+1}')\n",
    "            #plt.xticks(rotation=45, ha='right')\n",
    "        #plt.figure()\n",
    "        #plt.scatter(df_TET_feelings_prin[0],df_TET_feelings_prin[1], s=0.5)\n",
    "        #plt.xlabel('principal componant 1 (bored/effort)')\n",
    "        #plt.ylabel('principal componant 2 (calm)')\n",
    "        #plt.xlim(-6,6)\n",
    "        #plt.ylim(-1,2)\n",
    "        \n",
    "        return self.principal_components, self.explained_variance_ratio, df_TET_feelings_prin\n",
    "    def PCA_split(self,split_df_array):\n",
    "        split_df_array_TET = [[split_df_array[i][0],split_df_array[i][1][feelings]] for i in range(0,len(split_df_array))]\n",
    "        split_csv_TET = {split_df_array_TET[i][0]: split_df_array_TET[i][1] for i in range(0,len(split_df_array))}\n",
    "        df_TET_feelings_prin_dict = {name: split_csv_TET[name].dot(self.principal_components) for name in split_csv_TET.keys()}\n",
    "        #for key,value in df_TET_feelings_prin_dict.items():\n",
    "           # plt.figure()\n",
    "            #plt.scatter(value[0],value[1],s=0.5)\n",
    "           # plt.title(key)\n",
    "            #plt.xlabel('principal componant 1 (bored/effort)')\n",
    "           # plt.ylabel('principal componant 2 (calm)')\n",
    "            #plt.xlim(-6,6)\n",
    "           # plt.ylim(-1,2)\n",
    "            #plt.show()\n",
    "        return df_TET_feelings_prin_dict"
   ]
  },
  {
   "cell_type": "code",
   "execution_count": 5,
   "metadata": {},
   "outputs": [],
   "source": [
    "csv_splitter_instance = csv_splitter(filelocation_TET)\n",
    "df_csv_file_original = csv_splitter_instance.read_excel()\n",
    "split_df, split_csv_array = csv_splitter_instance.split_by_header(df_csv_file_original,header)"
   ]
  },
  {
   "cell_type": "code",
   "execution_count": 6,
   "metadata": {},
   "outputs": [],
   "source": [
    "principal_component_finder_instance = principal_component_finder(df_csv_file_original,feelings,no_dimensions)\n",
    "principal_components, explained_variance_ratio, df_TET_feelings_prin = principal_component_finder_instance.PCA_TOT()\n",
    "df_TET_feelings_prin_dict = principal_component_finder_instance.PCA_split(split_csv_array)"
   ]
  },
  {
   "cell_type": "code",
   "execution_count": 7,
   "metadata": {},
   "outputs": [],
   "source": [
    "x_values=[]\n",
    "y_values = []\n",
    "for no_of_jumps in range(1,30):\n",
    "    split_dict_skip = {}\n",
    "    for (subject, week, session), group in df_csv_file_original.groupby(['Subject', 'Week', 'Session']):\n",
    "        split_dict_skip[(subject, week, session)] = group.iloc[::no_of_jumps].copy()\n",
    "    df_csv_file = pd.concat([df for df in split_dict_skip.values()])\n",
    "    for feeling in feelings: \n",
    "    \n",
    "        df_csv_file[f'{feeling}_diff'] = -df_csv_file[feeling].diff(-1)\n",
    "    split_dict = {}\n",
    "    for (subject, week, session), group in df_csv_file.groupby(['Subject', 'Week', 'Session']):\n",
    "        split_dict[(subject, week, session)] = group.copy()\n",
    "        differences_array = pd.concat([df[:-1] for df in split_dict.values()])\n",
    "    numbers = []\n",
    "    for i in range(differences_array.shape[0]):\n",
    "        numbers.append(i)\n",
    "    \n",
    "    differences_array_MI = differences_array.copy()\n",
    "    differences_array_MI['number'] = numbers\n",
    "    wcss_best = 10000000\n",
    "    labels_fin = []\n",
    "    cluster_centres_fin = []\n",
    "    for i in range(0,1000):\n",
    "        kmeans = KMeans(3)\n",
    "        kmeans.fit(differences_array.iloc[:,-14:])\n",
    "        labels = kmeans.labels_\n",
    "        cluster_centres = kmeans.cluster_centers_\n",
    "        wcss = kmeans.inertia_\n",
    "        if wcss< wcss_best:\n",
    "            wcss_best = wcss\n",
    "            labels_fin = labels\n",
    "            cluster_centres_fin = cluster_centres\n",
    "    differences_array_MI['labels unnormalised vectors'] = labels_fin\n",
    "    downsampled_groups = []\n",
    "    for (subject, week, session), group in df_csv_file_original.groupby(['Subject', 'Week', 'Session']):\n",
    "        downsampled = group.iloc[::no_of_jumps].copy()\n",
    "        downsampled = downsampled[:-1]\n",
    "        downsampled['Original_Index'] = downsampled.index\n",
    "        downsampled_groups.append(downsampled)\n",
    "\n",
    "    # Concatenate downsampled groups into a DataFrame\n",
    "    df_downsampled = pd.concat(downsampled_groups)\n",
    "    df_downsampled['Cluster_Label'] = labels_fin\n",
    "    df_csv_file_original['Cluster_Label'] = np.nan\n",
    "    for _, row in df_downsampled.iterrows():\n",
    "        original_index = row['Original_Index']\n",
    "        label = row['Cluster_Label']\n",
    "        # Find the group of the original index\n",
    "        group_info = df_csv_file_original.loc[original_index, ['Subject', 'Week', 'Session']]\n",
    "        group_mask = (df_csv_file_original['Subject'] == group_info['Subject']) & \\\n",
    "                    (df_csv_file_original['Week'] == group_info['Week']) & \\\n",
    "                    (df_csv_file_original['Session'] == group_info['Session'])\n",
    "        group_indices = df_csv_file_original[group_mask].index\n",
    "        # Find the position of the original index within its group\n",
    "        pos_in_group = list(group_indices).index(original_index)\n",
    "        # Calculate the start and end indices to assign labels within the group based on no_of_jumps\n",
    "        start_idx = pos_in_group - (pos_in_group % no_of_jumps)\n",
    "        end_idx = min(start_idx + no_of_jumps, len(group_indices))\n",
    "        for i in range(start_idx, end_idx):\n",
    "            df_csv_file_original.at[group_indices[i], 'Cluster_Label'] = label\n",
    "    for feeling in feelings: \n",
    "    \n",
    "\n",
    "            df_csv_file_original[f'{feeling}_diff'] = -df_csv_file_original[feeling].diff(-1)\n",
    "    n_entries = 0  # This will count entries considered in the calculation\n",
    "    correct_assignments = 0\n",
    "\n",
    "    for i, row in df_csv_file_original.iterrows():\n",
    "        if not pd.isnull(row['Cluster_Label']) and not row[feelings_diffs].isnull().any():\n",
    "            # Both cluster label and feelings_diffs are not NaN\n",
    "            entry = row[feelings_diffs]*no_of_jumps # Extract features\n",
    "            assigned_cluster = row['Cluster_Label']\n",
    "            \n",
    "            # Calculate distances to all cluster centers\n",
    "            distances = np.array([distance.euclidean(entry, centre) for centre in cluster_centres_fin])\n",
    "            \n",
    "            # Find the index of the closest cluster center\n",
    "            closest_centre_idx = np.argmin(distances)\n",
    "            \n",
    "            # Check if the assigned cluster is the closest\n",
    "            if closest_centre_idx == assigned_cluster:\n",
    "                correct_assignments += 1\n",
    "            \n",
    "            n_entries += 1  # Increment count of entries considered\n",
    "\n",
    "    if n_entries > 0:\n",
    "        hughes_measure = correct_assignments / n_entries\n",
    "    y_values.append(hughes_measure)\n",
    "    x_values.append(no_of_jumps)"
   ]
  },
  {
   "cell_type": "code",
   "execution_count": 8,
   "metadata": {},
   "outputs": [
    {
     "data": {
      "image/png": "[encoded data removed]",
      "text/plain": [
       "<Figure size 640x480 with 1 Axes>"
      ]
     },
     "metadata": {},
     "output_type": "display_data"
    }
   ],
   "source": [
    "plt.plot(x_values,y_values)\n",
    "plt.title('Cluster Vectoral Consistency')\n",
    "plt.xlabel('Number of Time Steps')\n",
    "plt.ylabel('Correct Assignment Ratio')\n",
    "plt.savefig(\"C:/Users/hugma/diss/data/Cluster_Vectoral_consistency\")"
   ]
  },
  {
   "cell_type": "code",
   "execution_count": 9,
   "metadata": {},
   "outputs": [
    {
     "ename": "KeyboardInterrupt",
     "evalue": "",
     "output_type": "error",
     "traceback": [
      "\u001b[1;31m---------------------------------------------------------------------------\u001b[0m",
      "\u001b[1;31mKeyboardInterrupt\u001b[0m                         Traceback (most recent call last)",
      "Cell \u001b[1;32mIn[9], line 26\u001b[0m\n\u001b[0;32m     24\u001b[0m \u001b[38;5;28;01mfor\u001b[39;00m i \u001b[38;5;129;01min\u001b[39;00m \u001b[38;5;28mrange\u001b[39m(\u001b[38;5;241m0\u001b[39m,\u001b[38;5;241m1000\u001b[39m):\n\u001b[0;32m     25\u001b[0m     kmeans \u001b[38;5;241m=\u001b[39m KMeans(\u001b[38;5;241m3\u001b[39m)\n\u001b[1;32m---> 26\u001b[0m     kmeans\u001b[38;5;241m.\u001b[39mfit(\u001b[43mdifferences_array\u001b[49m\u001b[38;5;241;43m.\u001b[39;49m\u001b[43miloc\u001b[49m\u001b[43m[\u001b[49m\u001b[43m:\u001b[49m\u001b[43m,\u001b[49m\u001b[38;5;241;43m-\u001b[39;49m\u001b[38;5;241;43m14\u001b[39;49m\u001b[43m:\u001b[49m\u001b[43m]\u001b[49m)\n\u001b[0;32m     27\u001b[0m     labels \u001b[38;5;241m=\u001b[39m kmeans\u001b[38;5;241m.\u001b[39mlabels_\n\u001b[0;32m     28\u001b[0m     cluster_centres \u001b[38;5;241m=\u001b[39m kmeans\u001b[38;5;241m.\u001b[39mcluster_centers_\n",
      "File \u001b[1;32mc:\\Users\\hugma\\diss\\Lib\\site-packages\\pandas\\core\\indexing.py:1185\u001b[0m, in \u001b[0;36m_LocationIndexer.__getitem__\u001b[1;34m(self, key)\u001b[0m\n\u001b[0;32m   1183\u001b[0m     \u001b[38;5;28;01mif\u001b[39;00m \u001b[38;5;28mself\u001b[39m\u001b[38;5;241m.\u001b[39m_is_scalar_access(key):\n\u001b[0;32m   1184\u001b[0m         \u001b[38;5;28;01mreturn\u001b[39;00m \u001b[38;5;28mself\u001b[39m\u001b[38;5;241m.\u001b[39mobj\u001b[38;5;241m.\u001b[39m_get_value(\u001b[38;5;241m*\u001b[39mkey, takeable\u001b[38;5;241m=\u001b[39m\u001b[38;5;28mself\u001b[39m\u001b[38;5;241m.\u001b[39m_takeable)\n\u001b[1;32m-> 1185\u001b[0m     \u001b[38;5;28;01mreturn\u001b[39;00m \u001b[38;5;28;43mself\u001b[39;49m\u001b[38;5;241;43m.\u001b[39;49m\u001b[43m_getitem_tuple\u001b[49m\u001b[43m(\u001b[49m\u001b[43mkey\u001b[49m\u001b[43m)\u001b[49m\n\u001b[0;32m   1186\u001b[0m \u001b[38;5;28;01melse\u001b[39;00m:\n\u001b[0;32m   1187\u001b[0m     \u001b[38;5;66;03m# we by definition only have the 0th axis\u001b[39;00m\n\u001b[0;32m   1188\u001b[0m     axis \u001b[38;5;241m=\u001b[39m \u001b[38;5;28mself\u001b[39m\u001b[38;5;241m.\u001b[39maxis \u001b[38;5;129;01mor\u001b[39;00m \u001b[38;5;241m0\u001b[39m\n",
      "File \u001b[1;32mc:\\Users\\hugma\\diss\\Lib\\site-packages\\pandas\\core\\indexing.py:1695\u001b[0m, in \u001b[0;36m_iLocIndexer._getitem_tuple\u001b[1;34m(self, tup)\u001b[0m\n\u001b[0;32m   1692\u001b[0m \u001b[38;5;28;01mwith\u001b[39;00m suppress(IndexingError):\n\u001b[0;32m   1693\u001b[0m     \u001b[38;5;28;01mreturn\u001b[39;00m \u001b[38;5;28mself\u001b[39m\u001b[38;5;241m.\u001b[39m_getitem_lowerdim(tup)\n\u001b[1;32m-> 1695\u001b[0m \u001b[38;5;28;01mreturn\u001b[39;00m \u001b[38;5;28;43mself\u001b[39;49m\u001b[38;5;241;43m.\u001b[39;49m\u001b[43m_getitem_tuple_same_dim\u001b[49m\u001b[43m(\u001b[49m\u001b[43mtup\u001b[49m\u001b[43m)\u001b[49m\n",
      "File \u001b[1;32mc:\\Users\\hugma\\diss\\Lib\\site-packages\\pandas\\core\\indexing.py:1021\u001b[0m, in \u001b[0;36m_LocationIndexer._getitem_tuple_same_dim\u001b[1;34m(self, tup)\u001b[0m\n\u001b[0;32m   1018\u001b[0m \u001b[38;5;28;01mif\u001b[39;00m com\u001b[38;5;241m.\u001b[39mis_null_slice(key):\n\u001b[0;32m   1019\u001b[0m     \u001b[38;5;28;01mcontinue\u001b[39;00m\n\u001b[1;32m-> 1021\u001b[0m retval \u001b[38;5;241m=\u001b[39m \u001b[38;5;28;43mgetattr\u001b[39;49m\u001b[43m(\u001b[49m\u001b[43mretval\u001b[49m\u001b[43m,\u001b[49m\u001b[43m \u001b[49m\u001b[38;5;28;43mself\u001b[39;49m\u001b[38;5;241;43m.\u001b[39;49m\u001b[43mname\u001b[49m\u001b[43m)\u001b[49m\u001b[38;5;241;43m.\u001b[39;49m\u001b[43m_getitem_axis\u001b[49m\u001b[43m(\u001b[49m\u001b[43mkey\u001b[49m\u001b[43m,\u001b[49m\u001b[43m \u001b[49m\u001b[43maxis\u001b[49m\u001b[38;5;241;43m=\u001b[39;49m\u001b[43mi\u001b[49m\u001b[43m)\u001b[49m\n\u001b[0;32m   1022\u001b[0m \u001b[38;5;66;03m# We should never have retval.ndim < self.ndim, as that should\u001b[39;00m\n\u001b[0;32m   1023\u001b[0m \u001b[38;5;66;03m#  be handled by the _getitem_lowerdim call above.\u001b[39;00m\n\u001b[0;32m   1024\u001b[0m \u001b[38;5;28;01massert\u001b[39;00m retval\u001b[38;5;241m.\u001b[39mndim \u001b[38;5;241m==\u001b[39m \u001b[38;5;28mself\u001b[39m\u001b[38;5;241m.\u001b[39mndim\n",
      "File \u001b[1;32mc:\\Users\\hugma\\diss\\Lib\\site-packages\\pandas\\core\\indexing.py:1730\u001b[0m, in \u001b[0;36m_iLocIndexer._getitem_axis\u001b[1;34m(self, key, axis)\u001b[0m\n\u001b[0;32m   1724\u001b[0m     \u001b[38;5;28;01mraise\u001b[39;00m \u001b[38;5;167;01mIndexError\u001b[39;00m(\n\u001b[0;32m   1725\u001b[0m         \u001b[38;5;124m\"\u001b[39m\u001b[38;5;124mDataFrame indexer is not allowed for .iloc\u001b[39m\u001b[38;5;130;01m\\n\u001b[39;00m\u001b[38;5;124m\"\u001b[39m\n\u001b[0;32m   1726\u001b[0m         \u001b[38;5;124m\"\u001b[39m\u001b[38;5;124mConsider using .loc for automatic alignment.\u001b[39m\u001b[38;5;124m\"\u001b[39m\n\u001b[0;32m   1727\u001b[0m     )\n\u001b[0;32m   1729\u001b[0m \u001b[38;5;28;01mif\u001b[39;00m \u001b[38;5;28misinstance\u001b[39m(key, \u001b[38;5;28mslice\u001b[39m):\n\u001b[1;32m-> 1730\u001b[0m     \u001b[38;5;28;01mreturn\u001b[39;00m \u001b[38;5;28;43mself\u001b[39;49m\u001b[38;5;241;43m.\u001b[39;49m\u001b[43m_get_slice_axis\u001b[49m\u001b[43m(\u001b[49m\u001b[43mkey\u001b[49m\u001b[43m,\u001b[49m\u001b[43m \u001b[49m\u001b[43maxis\u001b[49m\u001b[38;5;241;43m=\u001b[39;49m\u001b[43maxis\u001b[49m\u001b[43m)\u001b[49m\n\u001b[0;32m   1732\u001b[0m \u001b[38;5;28;01mif\u001b[39;00m is_iterator(key):\n\u001b[0;32m   1733\u001b[0m     key \u001b[38;5;241m=\u001b[39m \u001b[38;5;28mlist\u001b[39m(key)\n",
      "File \u001b[1;32mc:\\Users\\hugma\\diss\\Lib\\site-packages\\pandas\\core\\indexing.py:1766\u001b[0m, in \u001b[0;36m_iLocIndexer._get_slice_axis\u001b[1;34m(self, slice_obj, axis)\u001b[0m\n\u001b[0;32m   1764\u001b[0m labels \u001b[38;5;241m=\u001b[39m obj\u001b[38;5;241m.\u001b[39m_get_axis(axis)\n\u001b[0;32m   1765\u001b[0m labels\u001b[38;5;241m.\u001b[39m_validate_positional_slice(slice_obj)\n\u001b[1;32m-> 1766\u001b[0m \u001b[38;5;28;01mreturn\u001b[39;00m \u001b[38;5;28;43mself\u001b[39;49m\u001b[38;5;241;43m.\u001b[39;49m\u001b[43mobj\u001b[49m\u001b[38;5;241;43m.\u001b[39;49m\u001b[43m_slice\u001b[49m\u001b[43m(\u001b[49m\u001b[43mslice_obj\u001b[49m\u001b[43m,\u001b[49m\u001b[43m \u001b[49m\u001b[43maxis\u001b[49m\u001b[38;5;241;43m=\u001b[39;49m\u001b[43maxis\u001b[49m\u001b[43m)\u001b[49m\n",
      "File \u001b[1;32mc:\\Users\\hugma\\diss\\Lib\\site-packages\\pandas\\core\\generic.py:4363\u001b[0m, in \u001b[0;36mNDFrame._slice\u001b[1;34m(self, slobj, axis)\u001b[0m\n\u001b[0;32m   4361\u001b[0m \u001b[38;5;28;01massert\u001b[39;00m \u001b[38;5;28misinstance\u001b[39m(slobj, \u001b[38;5;28mslice\u001b[39m), \u001b[38;5;28mtype\u001b[39m(slobj)\n\u001b[0;32m   4362\u001b[0m axis \u001b[38;5;241m=\u001b[39m \u001b[38;5;28mself\u001b[39m\u001b[38;5;241m.\u001b[39m_get_block_manager_axis(axis)\n\u001b[1;32m-> 4363\u001b[0m new_mgr \u001b[38;5;241m=\u001b[39m \u001b[38;5;28;43mself\u001b[39;49m\u001b[38;5;241;43m.\u001b[39;49m\u001b[43m_mgr\u001b[49m\u001b[38;5;241;43m.\u001b[39;49m\u001b[43mget_slice\u001b[49m\u001b[43m(\u001b[49m\u001b[43mslobj\u001b[49m\u001b[43m,\u001b[49m\u001b[43m \u001b[49m\u001b[43maxis\u001b[49m\u001b[38;5;241;43m=\u001b[39;49m\u001b[43maxis\u001b[49m\u001b[43m)\u001b[49m\n\u001b[0;32m   4364\u001b[0m result \u001b[38;5;241m=\u001b[39m \u001b[38;5;28mself\u001b[39m\u001b[38;5;241m.\u001b[39m_constructor_from_mgr(new_mgr, axes\u001b[38;5;241m=\u001b[39mnew_mgr\u001b[38;5;241m.\u001b[39maxes)\n\u001b[0;32m   4365\u001b[0m result \u001b[38;5;241m=\u001b[39m result\u001b[38;5;241m.\u001b[39m__finalize__(\u001b[38;5;28mself\u001b[39m)\n",
      "File \u001b[1;32minternals.pyx:869\u001b[0m, in \u001b[0;36mpandas._libs.internals.BlockManager.get_slice\u001b[1;34m()\u001b[0m\n",
      "File \u001b[1;32mc:\\Users\\hugma\\diss\\Lib\\site-packages\\pandas\\core\\internals\\managers.py:844\u001b[0m, in \u001b[0;36mBaseBlockManager._slice_take_blocks_ax0\u001b[1;34m(self, slice_or_indexer, fill_value, only_slice, use_na_proxy, ref_inplace_op)\u001b[0m\n\u001b[0;32m    842\u001b[0m                     blocks\u001b[38;5;241m.\u001b[39mappend(nb)\n\u001b[0;32m    843\u001b[0m             \u001b[38;5;28;01melse\u001b[39;00m:\n\u001b[1;32m--> 844\u001b[0m                 nb \u001b[38;5;241m=\u001b[39m \u001b[43mblk\u001b[49m\u001b[38;5;241;43m.\u001b[39;49m\u001b[43mtake_nd\u001b[49m\u001b[43m(\u001b[49m\u001b[43mtaker\u001b[49m\u001b[43m,\u001b[49m\u001b[43m \u001b[49m\u001b[43maxis\u001b[49m\u001b[38;5;241;43m=\u001b[39;49m\u001b[38;5;241;43m0\u001b[39;49m\u001b[43m,\u001b[49m\u001b[43m \u001b[49m\u001b[43mnew_mgr_locs\u001b[49m\u001b[38;5;241;43m=\u001b[39;49m\u001b[43mmgr_locs\u001b[49m\u001b[43m)\u001b[49m\n\u001b[0;32m    845\u001b[0m                 blocks\u001b[38;5;241m.\u001b[39mappend(nb)\n\u001b[0;32m    847\u001b[0m \u001b[38;5;28;01mreturn\u001b[39;00m blocks\n",
      "File \u001b[1;32mc:\\Users\\hugma\\diss\\Lib\\site-packages\\pandas\\core\\internals\\blocks.py:1307\u001b[0m, in \u001b[0;36mBlock.take_nd\u001b[1;34m(self, indexer, axis, new_mgr_locs, fill_value)\u001b[0m\n\u001b[0;32m   1304\u001b[0m     allow_fill \u001b[38;5;241m=\u001b[39m \u001b[38;5;28;01mTrue\u001b[39;00m\n\u001b[0;32m   1306\u001b[0m \u001b[38;5;66;03m# Note: algos.take_nd has upcast logic similar to coerce_to_target_dtype\u001b[39;00m\n\u001b[1;32m-> 1307\u001b[0m new_values \u001b[38;5;241m=\u001b[39m \u001b[43malgos\u001b[49m\u001b[38;5;241;43m.\u001b[39;49m\u001b[43mtake_nd\u001b[49m\u001b[43m(\u001b[49m\n\u001b[0;32m   1308\u001b[0m \u001b[43m    \u001b[49m\u001b[43mvalues\u001b[49m\u001b[43m,\u001b[49m\u001b[43m \u001b[49m\u001b[43mindexer\u001b[49m\u001b[43m,\u001b[49m\u001b[43m \u001b[49m\u001b[43maxis\u001b[49m\u001b[38;5;241;43m=\u001b[39;49m\u001b[43maxis\u001b[49m\u001b[43m,\u001b[49m\u001b[43m \u001b[49m\u001b[43mallow_fill\u001b[49m\u001b[38;5;241;43m=\u001b[39;49m\u001b[43mallow_fill\u001b[49m\u001b[43m,\u001b[49m\u001b[43m \u001b[49m\u001b[43mfill_value\u001b[49m\u001b[38;5;241;43m=\u001b[39;49m\u001b[43mfill_value\u001b[49m\n\u001b[0;32m   1309\u001b[0m \u001b[43m\u001b[49m\u001b[43m)\u001b[49m\n\u001b[0;32m   1311\u001b[0m \u001b[38;5;66;03m# Called from three places in managers, all of which satisfy\u001b[39;00m\n\u001b[0;32m   1312\u001b[0m \u001b[38;5;66;03m#  these assertions\u001b[39;00m\n\u001b[0;32m   1313\u001b[0m \u001b[38;5;28;01mif\u001b[39;00m \u001b[38;5;28misinstance\u001b[39m(\u001b[38;5;28mself\u001b[39m, ExtensionBlock):\n\u001b[0;32m   1314\u001b[0m     \u001b[38;5;66;03m# NB: in this case, the 'axis' kwarg will be ignored in the\u001b[39;00m\n\u001b[0;32m   1315\u001b[0m     \u001b[38;5;66;03m#  algos.take_nd call above.\u001b[39;00m\n",
      "File \u001b[1;32mc:\\Users\\hugma\\diss\\Lib\\site-packages\\pandas\\core\\array_algos\\take.py:117\u001b[0m, in \u001b[0;36mtake_nd\u001b[1;34m(arr, indexer, axis, fill_value, allow_fill)\u001b[0m\n\u001b[0;32m    114\u001b[0m     \u001b[38;5;28;01mreturn\u001b[39;00m arr\u001b[38;5;241m.\u001b[39mtake(indexer, fill_value\u001b[38;5;241m=\u001b[39mfill_value, allow_fill\u001b[38;5;241m=\u001b[39mallow_fill)\n\u001b[0;32m    116\u001b[0m arr \u001b[38;5;241m=\u001b[39m np\u001b[38;5;241m.\u001b[39masarray(arr)\n\u001b[1;32m--> 117\u001b[0m \u001b[38;5;28;01mreturn\u001b[39;00m \u001b[43m_take_nd_ndarray\u001b[49m\u001b[43m(\u001b[49m\u001b[43marr\u001b[49m\u001b[43m,\u001b[49m\u001b[43m \u001b[49m\u001b[43mindexer\u001b[49m\u001b[43m,\u001b[49m\u001b[43m \u001b[49m\u001b[43maxis\u001b[49m\u001b[43m,\u001b[49m\u001b[43m \u001b[49m\u001b[43mfill_value\u001b[49m\u001b[43m,\u001b[49m\u001b[43m \u001b[49m\u001b[43mallow_fill\u001b[49m\u001b[43m)\u001b[49m\n",
      "File \u001b[1;32mc:\\Users\\hugma\\diss\\Lib\\site-packages\\pandas\\core\\array_algos\\take.py:162\u001b[0m, in \u001b[0;36m_take_nd_ndarray\u001b[1;34m(arr, indexer, axis, fill_value, allow_fill)\u001b[0m\n\u001b[0;32m    157\u001b[0m     out \u001b[38;5;241m=\u001b[39m np\u001b[38;5;241m.\u001b[39mempty(out_shape, dtype\u001b[38;5;241m=\u001b[39mdtype)\n\u001b[0;32m    159\u001b[0m func \u001b[38;5;241m=\u001b[39m _get_take_nd_function(\n\u001b[0;32m    160\u001b[0m     arr\u001b[38;5;241m.\u001b[39mndim, arr\u001b[38;5;241m.\u001b[39mdtype, out\u001b[38;5;241m.\u001b[39mdtype, axis\u001b[38;5;241m=\u001b[39maxis, mask_info\u001b[38;5;241m=\u001b[39mmask_info\n\u001b[0;32m    161\u001b[0m )\n\u001b[1;32m--> 162\u001b[0m \u001b[43mfunc\u001b[49m\u001b[43m(\u001b[49m\u001b[43marr\u001b[49m\u001b[43m,\u001b[49m\u001b[43m \u001b[49m\u001b[43mindexer\u001b[49m\u001b[43m,\u001b[49m\u001b[43m \u001b[49m\u001b[43mout\u001b[49m\u001b[43m,\u001b[49m\u001b[43m \u001b[49m\u001b[43mfill_value\u001b[49m\u001b[43m)\u001b[49m\n\u001b[0;32m    164\u001b[0m \u001b[38;5;28;01mif\u001b[39;00m flip_order:\n\u001b[0;32m    165\u001b[0m     out \u001b[38;5;241m=\u001b[39m out\u001b[38;5;241m.\u001b[39mT\n",
      "\u001b[1;31mKeyboardInterrupt\u001b[0m: "
     ]
    },
    {
     "ename": "",
     "evalue": "",
     "output_type": "error",
     "traceback": [
      "\u001b[1;31mThe Kernel crashed while executing code in the current cell or a previous cell. \n",
      "\u001b[1;31mPlease review the code in the cell(s) to identify a possible cause of the failure. \n",
      "\u001b[1;31mClick <a href='https://aka.ms/vscodeJupyterKernelCrash'>here</a> for more info. \n",
      "\u001b[1;31mView Jupyter <a href='command:jupyter.viewOutput'>log</a> for further details."
     ]
    }
   ],
   "source": [
    "x_values=[]\n",
    "y_values = []\n",
    "for no_of_jumps in range(1,30):\n",
    "    split_dict_skip = {}\n",
    "    for (subject, week, session), group in df_csv_file_original.groupby(['Subject', 'Week', 'Session']):\n",
    "        split_dict_skip[(subject, week, session)] = group.iloc[::no_of_jumps].copy()\n",
    "    df_csv_file = pd.concat([df for df in split_dict_skip.values()])\n",
    "    for feeling in feelings: \n",
    "    \n",
    "        df_csv_file[f'{feeling}_diff'] = -df_csv_file[feeling].diff(-1)\n",
    "    split_dict = {}\n",
    "    for (subject, week, session), group in df_csv_file.groupby(['Subject', 'Week', 'Session']):\n",
    "        split_dict[(subject, week, session)] = group.copy()\n",
    "        differences_array = pd.concat([df[:-1] for df in split_dict.values()])\n",
    "    numbers = []\n",
    "    for i in range(differences_array.shape[0]):\n",
    "        numbers.append(i)\n",
    "    \n",
    "    differences_array_MI = differences_array.copy()\n",
    "    differences_array_MI['number'] = numbers\n",
    "    wcss_best = 10000000\n",
    "    labels_fin = []\n",
    "    cluster_centres_fin = []\n",
    "    for i in range(0,1000):\n",
    "        kmeans = KMeans(3)\n",
    "        kmeans.fit(differences_array.iloc[:,-14:])\n",
    "        labels = kmeans.labels_\n",
    "        cluster_centres = kmeans.cluster_centers_\n",
    "        wcss = kmeans.inertia_\n",
    "        if wcss< wcss_best:\n",
    "            wcss_best = wcss\n",
    "            labels_fin = labels\n",
    "            cluster_centres_fin = cluster_centres\n",
    "   \n",
    "    differences_array_MI['labels unnormalised vectors'] = labels_fin\n",
    "    downsampled_groups = []\n",
    "    for (subject, week, session), group in df_csv_file_original.groupby(['Subject', 'Week', 'Session']):\n",
    "        downsampled = group.iloc[::no_of_jumps].copy()\n",
    "        downsampled = downsampled[:-1]\n",
    "        downsampled['Original_Index'] = downsampled.index\n",
    "        downsampled_groups.append(downsampled)\n",
    "\n",
    "    # Concatenate downsampled groups into a DataFrame\n",
    "    df_downsampled = pd.concat(downsampled_groups)\n",
    "    df_downsampled['Cluster_Label'] = labels_fin\n",
    "    df_csv_file_original['Cluster_Label'] = np.nan\n",
    "    for _, row in df_downsampled.iterrows():\n",
    "        original_index = row['Original_Index']\n",
    "        label = row['Cluster_Label']\n",
    "        # Find the group of the original index\n",
    "        group_info = df_csv_file_original.loc[original_index, ['Subject', 'Week', 'Session']]\n",
    "        group_mask = (df_csv_file_original['Subject'] == group_info['Subject']) & \\\n",
    "                    (df_csv_file_original['Week'] == group_info['Week']) & \\\n",
    "                    (df_csv_file_original['Session'] == group_info['Session'])\n",
    "        group_indices = df_csv_file_original[group_mask].index\n",
    "        # Find the position of the original index within its group\n",
    "        pos_in_group = list(group_indices).index(original_index)\n",
    "        # Calculate the start and end indices to assign labels within the group based on no_of_jumps\n",
    "        start_idx = pos_in_group - (pos_in_group % no_of_jumps)\n",
    "        end_idx = min(start_idx + no_of_jumps, len(group_indices))\n",
    "        for i in range(start_idx, end_idx):\n",
    "            df_csv_file_original.at[group_indices[i], 'Cluster_Label'] = label\n",
    "    for feeling in feelings: \n",
    "    \n",
    "\n",
    "            df_csv_file_original[f'{feeling}_diff'] = -df_csv_file_original[feeling].diff(-1)\n",
    "    n_entries = 0  # This will count entries considered in the calculation\n",
    "    correct_assignments = 0\n",
    "\n",
    "    for i, row in df_csv_file_original.loc[df_csv_file_original['Week']=='Week_3'].iterrows():\n",
    "        if not pd.isnull(row['Cluster_Label']) and not row[feelings_diffs].isnull().any():\n",
    "            # Both cluster label and feelings_diffs are not NaN\n",
    "            entry = row[feelings_diffs]*no_of_jumps # Extract features\n",
    "            assigned_cluster = row['Cluster_Label']\n",
    "            \n",
    "            # Calculate distances to all cluster centers\n",
    "            distances = np.array([distance.euclidean(entry, centre) for centre in cluster_centres_fin])\n",
    "            \n",
    "            # Find the index of the closest cluster center\n",
    "            closest_centre_idx = np.argmin(distances)\n",
    "            \n",
    "            # Check if the assigned cluster is the closest\n",
    "            if closest_centre_idx == assigned_cluster:\n",
    "                correct_assignments += 1\n",
    "            \n",
    "            n_entries += 1  # Increment count of entries considered\n",
    "\n",
    "    if n_entries > 0:\n",
    "        hughes_measure = correct_assignments / n_entries\n",
    "    y_values.append(hughes_measure)\n",
    "    x_values.append(no_of_jumps)"
   ]
  },
  {
   "cell_type": "code",
   "execution_count": null,
   "metadata": {},
   "outputs": [
    {
     "data": {
      "text/plain": [
       "[<matplotlib.lines.Line2D at 0x1f3ef0c1f90>]"
      ]
     },
     "execution_count": 89,
     "metadata": {},
     "output_type": "execute_result"
    },
    {
     "data": {
      "image/png": "[encoded data removed]",
      "text/plain": [
       "<Figure size 640x480 with 1 Axes>"
      ]
     },
     "metadata": {},
     "output_type": "display_data"
    },
    {
     "ename": "",
     "evalue": "",
     "output_type": "error",
     "traceback": [
      "\u001b[1;31mThe Kernel crashed while executing code in the current cell or a previous cell. \n",
      "\u001b[1;31mPlease review the code in the cell(s) to identify a possible cause of the failure. \n",
      "\u001b[1;31mClick <a href='https://aka.ms/vscodeJupyterKernelCrash'>here</a> for more info. \n",
      "\u001b[1;31mView Jupyter <a href='command:jupyter.viewOutput'>log</a> for further details."
     ]
    }
   ],
   "source": [
    "plt.plot(x_values,y_values)"
   ]
  }
 ],
 "metadata": {
  "kernelspec": {
   "display_name": "diss",
   "language": "python",
   "name": "python3"
  },
  "language_info": {
   "codemirror_mode": {
    "name": "ipython",
    "version": 3
   },
   "file_extension": ".py",
   "mimetype": "text/x-python",
   "name": "python",
   "nbconvert_exporter": "python",
   "pygments_lexer": "ipython3",
   "version": "3.11.9"
  }
 },
 "nbformat": 4,
 "nbformat_minor": 2
}
