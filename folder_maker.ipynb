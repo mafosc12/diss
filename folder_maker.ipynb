{
 "cells": [
  {
   "cell_type": "code",
   "execution_count": 1,
   "metadata": {},
   "outputs": [
    {
     "name": "stdout",
     "output_type": "stream",
     "text": [
      "Folders created successfully.\n"
     ]
    }
   ],
   "source": [
    "import os\n",
    "\n",
    "# Define the base directory where the participant folders will be created\n",
    "base_dir = \"C:/Users/hugma/diss/Breathwork EEG Data/Dreem_Pilot\"  # Change this to your actual base directory\n",
    "\n",
    "# Loop through each participant\n",
    "for i in range(1, 22):  # Assuming participant numbers start from 1 to 20\n",
    "    # Create a path for each participant's folder\n",
    "    participant_num = f's{str(i).zfill(2)}'  # This creates 's01', 's02', ..., 's21'\n",
    "    # Create a path for each participant's folder\n",
    "    participant_path = os.path.join(base_dir, participant_num)\n",
    "    \n",
    "    # Ensure the participant's folder exists\n",
    "    os.makedirs(participant_path, exist_ok=True)\n",
    "    \n",
    "    # Loop through each week for the current participant\n",
    "    for week in range(1, 5):  # Assuming there are weeks 1 to 4\n",
    "        # Create a path for each week's folder\n",
    "        week_path = os.path.join(participant_path, f'week_{week}')\n",
    "        \n",
    "        # Create the week folder\n",
    "        os.makedirs(week_path, exist_ok=True)\n",
    "        \n",
    "        # Create the timestamps folder inside the current week folder\n",
    "        timestamps_path = os.path.join(week_path, 'permutation_lsz')\n",
    "        os.makedirs(timestamps_path, exist_ok=True)\n",
    "\n",
    "print(\"Folders created successfully.\")"
   ]
  }
 ],
 "metadata": {
  "kernelspec": {
   "display_name": "diss",
   "language": "python",
   "name": "python3"
  },
  "language_info": {
   "codemirror_mode": {
    "name": "ipython",
    "version": 3
   },
   "file_extension": ".py",
   "mimetype": "text/x-python",
   "name": "python",
   "nbconvert_exporter": "python",
   "pygments_lexer": "ipython3",
   "version": "3.11.9"
  }
 },
 "nbformat": 4,
 "nbformat_minor": 2
}
