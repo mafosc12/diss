{
 "cells": [
  {
   "cell_type": "code",
   "execution_count": 39,
   "metadata": {},
   "outputs": [],
   "source": [
    "import scipy.io\n",
    "import numpy as np"
   ]
  },
  {
   "cell_type": "code",
   "execution_count": 40,
   "metadata": {},
   "outputs": [
    {
     "name": "stdout",
     "output_type": "stream",
     "text": [
      "Keys in the loaded .mat file: dict_keys(['__header__', '__version__', '__globals__', 'data'])\n"
     ]
    }
   ],
   "source": [
    "mat = scipy.io.loadmat('C:/Users/hugma/diss/Breathwork EEG Data/Dreem_Pilot/s17/week_1/00-accelerometer/s17_wk1_1.mat')\n",
    "print(\"Keys in the loaded .mat file:\", mat.keys())\n",
    "\n"
   ]
  },
  {
   "cell_type": "code",
   "execution_count": 41,
   "metadata": {},
   "outputs": [
    {
     "name": "stdout",
     "output_type": "stream",
     "text": [
      "MATLAB File Header: MATLAB 5.0 MAT-file, Platform: PCWIN64, Created on: Mon Apr  3 14:36:06 2023\n"
     ]
    }
   ],
   "source": [
    "header = mat['__header__'].decode('utf-8')\n",
    "print(\"MATLAB File Header:\", header)"
   ]
  },
  {
   "cell_type": "code",
   "execution_count": 42,
   "metadata": {},
   "outputs": [
    {
     "name": "stdout",
     "output_type": "stream",
     "text": [
      "Shape of Data: (135422, 7)\n",
      "Data Type: float64\n",
      "Data Sample (first 5 elements): [[-7.73004349e-03 -1.48013448e-02  3.64554562e-02  7.12707520e-01\n",
      "   8.52004290e-02  7.02511311e-01  1.00435710e+00]\n",
      " [-3.91052710e-03 -1.44381095e-02  3.26871201e-02  7.14660645e-01\n",
      "   8.66087824e-02  6.98096275e-01  1.00278580e+00]\n",
      " [-7.30866159e-05 -1.40366424e-02  2.88775750e-02  7.17468262e-01\n",
      "   8.63424614e-02  6.92987502e-01  1.00122297e+00]\n",
      " [ 3.77776241e-03 -1.35973701e-02  2.50305030e-02  7.22167969e-01\n",
      "   8.46777484e-02  6.87533081e-01  1.00069904e+00]\n",
      " [ 7.63753615e-03 -1.31208692e-02  2.11495869e-02  7.29553223e-01\n",
      "   8.05722773e-02  6.81768417e-01  1.00177240e+00]]\n"
     ]
    },
    {
     "ename": "",
     "evalue": "",
     "output_type": "error",
     "traceback": [
      "\u001b[1;31mThe Kernel crashed while executing code in the current cell or a previous cell. \n",
      "\u001b[1;31mPlease review the code in the cell(s) to identify a possible cause of the failure. \n",
      "\u001b[1;31mClick <a href='https://aka.ms/vscodeJupyterKernelCrash'>here</a> for more info. \n",
      "\u001b[1;31mView Jupyter <a href='command:jupyter.viewOutput'>log</a> for further details."
     ]
    }
   ],
   "source": [
    "data_array = mat['data']\n",
    "print(\"Shape of Data:\", data_array.shape)\n",
    "print(\"Data Type:\", data_array.dtype)\n",
    "print(\"Data Sample (first 5 elements):\", data_array[:5])"
   ]
  }
 ],
 "metadata": {
  "kernelspec": {
   "display_name": "diss",
   "language": "python",
   "name": "python3"
  },
  "language_info": {
   "codemirror_mode": {
    "name": "ipython",
    "version": 3
   },
   "file_extension": ".py",
   "mimetype": "text/x-python",
   "name": "python",
   "nbconvert_exporter": "python",
   "pygments_lexer": "ipython3",
   "version": "3.11.7"
  }
 },
 "nbformat": 4,
 "nbformat_minor": 2
}
